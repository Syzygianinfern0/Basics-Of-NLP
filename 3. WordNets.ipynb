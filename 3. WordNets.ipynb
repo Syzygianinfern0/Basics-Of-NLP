{
 "cells": [
  {
   "cell_type": "markdown",
   "metadata": {},
   "source": [
    "# WordNets\n",
    "These are basically just word embeddings. These can be used to find similarity indix or synonyms / antonyms.. etc"
   ]
  },
  {
   "cell_type": "code",
   "execution_count": 1,
   "metadata": {
    "ExecuteTime": {
     "end_time": "2019-06-21T13:20:09.539213Z",
     "start_time": "2019-06-21T13:20:09.003128Z"
    }
   },
   "outputs": [],
   "source": [
    "from  nltk.corpus import wordnet"
   ]
  },
  {
   "cell_type": "markdown",
   "metadata": {
    "heading_collapsed": true
   },
   "source": [
    "## Sysnet"
   ]
  },
  {
   "cell_type": "code",
   "execution_count": 3,
   "metadata": {
    "ExecuteTime": {
     "end_time": "2019-06-21T13:20:37.693072Z",
     "start_time": "2019-06-21T13:20:37.650648Z"
    },
    "hidden": true
   },
   "outputs": [],
   "source": [
    "sysn = wordnet.synsets(\"test\")"
   ]
  },
  {
   "cell_type": "code",
   "execution_count": 4,
   "metadata": {
    "ExecuteTime": {
     "end_time": "2019-06-21T13:20:44.965876Z",
     "start_time": "2019-06-21T13:20:44.957935Z"
    },
    "hidden": true
   },
   "outputs": [
    {
     "data": {
      "text/plain": [
       "[Synset('trial.n.02'),\n",
       " Synset('test.n.02'),\n",
       " Synset('examination.n.02'),\n",
       " Synset('test.n.04'),\n",
       " Synset('test.n.05'),\n",
       " Synset('test.n.06'),\n",
       " Synset('test.v.01'),\n",
       " Synset('screen.v.01'),\n",
       " Synset('quiz.v.01'),\n",
       " Synset('test.v.04'),\n",
       " Synset('test.v.05'),\n",
       " Synset('test.v.06'),\n",
       " Synset('test.v.07')]"
      ]
     },
     "execution_count": 4,
     "metadata": {},
     "output_type": "execute_result"
    }
   ],
   "source": [
    "sysn"
   ]
  },
  {
   "cell_type": "markdown",
   "metadata": {
    "hidden": true
   },
   "source": [
    "Here, the `.n.\\d` are different forms in nouns and the `.v.\\d` are verb forms."
   ]
  },
  {
   "cell_type": "markdown",
   "metadata": {},
   "source": [
    "## Names\n",
    "You can access the names that you see in the list above by calling `.name()`"
   ]
  },
  {
   "cell_type": "code",
   "execution_count": 6,
   "metadata": {
    "ExecuteTime": {
     "end_time": "2019-06-21T13:23:10.787944Z",
     "start_time": "2019-06-21T13:23:10.782950Z"
    }
   },
   "outputs": [
    {
     "data": {
      "text/plain": [
       "'trial.n.02'"
      ]
     },
     "execution_count": 6,
     "metadata": {},
     "output_type": "execute_result"
    }
   ],
   "source": [
    "sysn[0].name()"
   ]
  },
  {
   "cell_type": "markdown",
   "metadata": {},
   "source": [
    "## Lemmas\n",
    "Lemmas refer to similar words. It can be accessed using the `.lemmas`"
   ]
  },
  {
   "cell_type": "code",
   "execution_count": 7,
   "metadata": {
    "ExecuteTime": {
     "end_time": "2019-06-21T13:23:32.726125Z",
     "start_time": "2019-06-21T13:23:32.721141Z"
    }
   },
   "outputs": [
    {
     "data": {
      "text/plain": [
       "[Lemma('trial.n.02.trial'),\n",
       " Lemma('trial.n.02.trial_run'),\n",
       " Lemma('trial.n.02.test'),\n",
       " Lemma('trial.n.02.tryout')]"
      ]
     },
     "execution_count": 7,
     "metadata": {},
     "output_type": "execute_result"
    }
   ],
   "source": [
    "sysn[0].lemmas()"
   ]
  },
  {
   "cell_type": "code",
   "execution_count": 8,
   "metadata": {
    "ExecuteTime": {
     "end_time": "2019-06-21T13:23:49.104902Z",
     "start_time": "2019-06-21T13:23:49.100927Z"
    }
   },
   "outputs": [
    {
     "data": {
      "text/plain": [
       "[Lemma('test.n.02.test'),\n",
       " Lemma('test.n.02.mental_test'),\n",
       " Lemma('test.n.02.mental_testing'),\n",
       " Lemma('test.n.02.psychometric_test')]"
      ]
     },
     "execution_count": 8,
     "metadata": {},
     "output_type": "execute_result"
    }
   ],
   "source": [
    "sysn[1].lemmas()"
   ]
  },
  {
   "cell_type": "markdown",
   "metadata": {},
   "source": [
    "## Definitions\n",
    "The definition of the words surrounded by that Sysnet can be called using the `.definition()`"
   ]
  },
  {
   "cell_type": "code",
   "execution_count": 9,
   "metadata": {
    "ExecuteTime": {
     "end_time": "2019-06-21T13:28:29.124436Z",
     "start_time": "2019-06-21T13:28:29.119450Z"
    }
   },
   "outputs": [
    {
     "data": {
      "text/plain": [
       "'trying something to find out about it'"
      ]
     },
     "execution_count": 9,
     "metadata": {},
     "output_type": "execute_result"
    }
   ],
   "source": [
    "sysn[0].definition()"
   ]
  },
  {
   "cell_type": "code",
   "execution_count": 10,
   "metadata": {
    "ExecuteTime": {
     "end_time": "2019-06-21T13:28:44.032066Z",
     "start_time": "2019-06-21T13:28:44.027080Z"
    }
   },
   "outputs": [
    {
     "data": {
      "text/plain": [
       "'any standardized procedure for measuring sensitivity or memory or intelligence or aptitude or personality etc'"
      ]
     },
     "execution_count": 10,
     "metadata": {},
     "output_type": "execute_result"
    }
   ],
   "source": [
    "sysn[1].definition()"
   ]
  },
  {
   "cell_type": "markdown",
   "metadata": {},
   "source": [
    "## Usages of the word \n",
    "Examples of usage in a sentence..."
   ]
  },
  {
   "cell_type": "code",
   "execution_count": 13,
   "metadata": {
    "ExecuteTime": {
     "end_time": "2019-06-21T13:30:51.201169Z",
     "start_time": "2019-06-21T13:30:51.197177Z"
    }
   },
   "outputs": [
    {
     "data": {
      "text/plain": [
       "['a sample for ten days free trial',\n",
       " 'a trial of progesterone failed to relieve the pain']"
      ]
     },
     "execution_count": 13,
     "metadata": {},
     "output_type": "execute_result"
    }
   ],
   "source": [
    "sysn[0].examples()"
   ]
  },
  {
   "cell_type": "markdown",
   "metadata": {},
   "source": [
    "## Synonyms and Antonyms\n"
   ]
  },
  {
   "cell_type": "code",
   "execution_count": 14,
   "metadata": {
    "ExecuteTime": {
     "end_time": "2019-06-21T13:32:27.124016Z",
     "start_time": "2019-06-21T13:32:27.119031Z"
    }
   },
   "outputs": [
    {
     "name": "stdout",
     "output_type": "stream",
     "text": [
      "{'screen', 'test', 'prove', 'trial', 'run', 'mental_test', 'try_out', 'tryout', 'examine', 'examination', 'mental_testing', 'psychometric_test', 'essay', 'trial_run', 'exam', 'quiz', 'try'}\n",
      "set()\n"
     ]
    }
   ],
   "source": [
    "synonyms = []\n",
    "antonyms = []\n",
    "\n",
    "for syn in wordnet.synsets(\"test\"):\n",
    "    for l in syn.lemmas():\n",
    "        synonyms.append(l.name())\n",
    "        if l.antonyms():\n",
    "            antonyms.append(l.antonyms()[0].name())\n",
    "\n",
    "print(set(synonyms))\n",
    "print(set(antonyms))"
   ]
  },
  {
   "cell_type": "markdown",
   "metadata": {},
   "source": [
    "# Similarity Indices\n",
    "Checks the word embeddings and returns the amount of distances between the vectors"
   ]
  },
  {
   "cell_type": "code",
   "execution_count": 20,
   "metadata": {
    "ExecuteTime": {
     "end_time": "2019-06-21T13:37:04.534472Z",
     "start_time": "2019-06-21T13:37:04.401827Z"
    }
   },
   "outputs": [
    {
     "data": {
      "text/plain": [
       "0.9090909090909091"
      ]
     },
     "execution_count": 20,
     "metadata": {},
     "output_type": "execute_result"
    }
   ],
   "source": [
    "word1 = wordnet.synset('ship.n.01')\n",
    "word2 = wordnet.synset('boat.n.01')\n",
    "word1.wup_similarity(word2)"
   ]
  },
  {
   "cell_type": "code",
   "execution_count": 21,
   "metadata": {
    "ExecuteTime": {
     "end_time": "2019-06-21T13:37:17.040223Z",
     "start_time": "2019-06-21T13:37:17.035249Z"
    }
   },
   "outputs": [
    {
     "data": {
      "text/plain": [
       "0.6956521739130435"
      ]
     },
     "execution_count": 21,
     "metadata": {},
     "output_type": "execute_result"
    }
   ],
   "source": [
    "word1 = wordnet.synset('ship.n.01')\n",
    "word2 = wordnet.synset('car.n.01')\n",
    "word1.wup_similarity(word2)"
   ]
  },
  {
   "cell_type": "code",
   "execution_count": 22,
   "metadata": {
    "ExecuteTime": {
     "end_time": "2019-06-21T13:37:22.971594Z",
     "start_time": "2019-06-21T13:37:22.965610Z"
    }
   },
   "outputs": [
    {
     "data": {
      "text/plain": [
       "0.42105263157894735"
      ]
     },
     "execution_count": 22,
     "metadata": {},
     "output_type": "execute_result"
    }
   ],
   "source": [
    "word1 = wordnet.synset('ship.n.01')\n",
    "word2 = wordnet.synset('moon.n.01')\n",
    "word1.wup_similarity(word2)"
   ]
  }
 ],
 "metadata": {
  "kernelspec": {
   "display_name": "Python 3",
   "language": "python",
   "name": "python3"
  },
  "language_info": {
   "codemirror_mode": {
    "name": "ipython",
    "version": 3
   },
   "file_extension": ".py",
   "mimetype": "text/x-python",
   "name": "python",
   "nbconvert_exporter": "python",
   "pygments_lexer": "ipython3",
   "version": "3.7.3"
  },
  "toc": {
   "base_numbering": 1,
   "nav_menu": {},
   "number_sections": true,
   "sideBar": true,
   "skip_h1_title": false,
   "title_cell": "Table of Contents",
   "title_sidebar": "Contents",
   "toc_cell": false,
   "toc_position": {},
   "toc_section_display": true,
   "toc_window_display": false
  },
  "varInspector": {
   "cols": {
    "lenName": 16,
    "lenType": 16,
    "lenVar": 40
   },
   "kernels_config": {
    "python": {
     "delete_cmd_postfix": "",
     "delete_cmd_prefix": "del ",
     "library": "var_list.py",
     "varRefreshCmd": "print(var_dic_list())"
    },
    "r": {
     "delete_cmd_postfix": ") ",
     "delete_cmd_prefix": "rm(",
     "library": "var_list.r",
     "varRefreshCmd": "cat(var_dic_list()) "
    }
   },
   "types_to_exclude": [
    "module",
    "function",
    "builtin_function_or_method",
    "instance",
    "_Feature"
   ],
   "window_display": false
  }
 },
 "nbformat": 4,
 "nbformat_minor": 2
}
