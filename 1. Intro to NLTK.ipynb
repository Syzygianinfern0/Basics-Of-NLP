{
 "cells": [
  {
   "cell_type": "markdown",
   "metadata": {
    "ExecuteTime": {
     "end_time": "2019-06-20T14:22:03.898205Z",
     "start_time": "2019-06-20T14:22:02.674691Z"
    }
   },
   "source": [
    "# Installation\n",
    "```bash\n",
    "pip install nltk```\n",
    "\n",
    "You also need to download the data for the NLP. It can be done using \n",
    "\n",
    "```python \n",
    "import nltk\n",
    "nltk.download()```\n",
    "\n",
    "Select '$all$' from the list. \n",
    "It will take around 2 minutes to get the entire data. "
   ]
  },
  {
   "cell_type": "code",
   "execution_count": 2,
   "metadata": {
    "ExecuteTime": {
     "end_time": "2019-06-20T14:25:32.993022Z",
     "start_time": "2019-06-20T14:25:30.512419Z"
    }
   },
   "outputs": [],
   "source": [
    "import nltk"
   ]
  },
  {
   "cell_type": "markdown",
   "metadata": {},
   "source": [
    "# Tokenization\n",
    "Our sentences must be broken down to words before performing any operations. NLTK provides the API to do so. \n",
    "* sent_tokenize - Parah → Sentences\n",
    "* word_tokenize - Parah → Words"
   ]
  },
  {
   "cell_type": "code",
   "execution_count": 3,
   "metadata": {
    "ExecuteTime": {
     "end_time": "2019-06-20T14:34:21.752351Z",
     "start_time": "2019-06-20T14:34:21.738403Z"
    }
   },
   "outputs": [
    {
     "data": {
      "text/plain": [
       "['Hello!',\n",
       " 'My name is SyzygianInfern0.',\n",
       " \"It's inspired from Dante Alighieri's 14th-century         epic poem Divine Comedy.\",\n",
       " 'Anyways python is the best of all']"
      ]
     },
     "execution_count": 3,
     "metadata": {},
     "output_type": "execute_result"
    }
   ],
   "source": [
    "TEXT = \"Hello! My name is SyzygianInfern0. It's inspired from Dante Alighieri's 14th-century \\\n",
    "        epic poem Divine Comedy. Anyways python is the best of all\"\n",
    "nltk.tokenize.sent_tokenize(TEXT)"
   ]
  },
  {
   "cell_type": "code",
   "execution_count": 4,
   "metadata": {
    "ExecuteTime": {
     "end_time": "2019-06-20T14:34:57.318263Z",
     "start_time": "2019-06-20T14:34:57.313272Z"
    }
   },
   "outputs": [
    {
     "data": {
      "text/plain": [
       "['Hello',\n",
       " '!',\n",
       " 'My',\n",
       " 'name',\n",
       " 'is',\n",
       " 'SyzygianInfern0',\n",
       " '.',\n",
       " 'It',\n",
       " \"'s\",\n",
       " 'inspired',\n",
       " 'from',\n",
       " 'Dante',\n",
       " 'Alighieri',\n",
       " \"'s\",\n",
       " '14th-century',\n",
       " 'epic',\n",
       " 'poem',\n",
       " 'Divine',\n",
       " 'Comedy',\n",
       " '.',\n",
       " 'Anyways',\n",
       " 'python',\n",
       " 'is',\n",
       " 'the',\n",
       " 'best',\n",
       " 'of',\n",
       " 'all']"
      ]
     },
     "execution_count": 4,
     "metadata": {},
     "output_type": "execute_result"
    }
   ],
   "source": [
    "nltk.tokenize.word_tokenize(TEXT)"
   ]
  },
  {
   "cell_type": "code",
   "execution_count": null,
   "metadata": {},
   "outputs": [],
   "source": []
  }
 ],
 "metadata": {
  "kernelspec": {
   "display_name": "Python 3",
   "language": "python",
   "name": "python3"
  },
  "language_info": {
   "codemirror_mode": {
    "name": "ipython",
    "version": 3
   },
   "file_extension": ".py",
   "mimetype": "text/x-python",
   "name": "python",
   "nbconvert_exporter": "python",
   "pygments_lexer": "ipython3",
   "version": "3.7.3"
  },
  "toc": {
   "base_numbering": 1,
   "nav_menu": {},
   "number_sections": true,
   "sideBar": true,
   "skip_h1_title": false,
   "title_cell": "Table of Contents",
   "title_sidebar": "Contents",
   "toc_cell": false,
   "toc_position": {},
   "toc_section_display": true,
   "toc_window_display": false
  },
  "varInspector": {
   "cols": {
    "lenName": 16,
    "lenType": 16,
    "lenVar": 40
   },
   "kernels_config": {
    "python": {
     "delete_cmd_postfix": "",
     "delete_cmd_prefix": "del ",
     "library": "var_list.py",
     "varRefreshCmd": "print(var_dic_list())"
    },
    "r": {
     "delete_cmd_postfix": ") ",
     "delete_cmd_prefix": "rm(",
     "library": "var_list.r",
     "varRefreshCmd": "cat(var_dic_list()) "
    }
   },
   "types_to_exclude": [
    "module",
    "function",
    "builtin_function_or_method",
    "instance",
    "_Feature"
   ],
   "window_display": false
  }
 },
 "nbformat": 4,
 "nbformat_minor": 2
}
