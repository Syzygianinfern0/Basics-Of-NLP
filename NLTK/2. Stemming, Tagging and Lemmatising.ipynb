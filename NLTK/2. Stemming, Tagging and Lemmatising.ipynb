{
 "cells": [
  {
   "cell_type": "markdown",
   "metadata": {},
   "source": [
    "# Stemming\n",
    "This is a pretty widely used preprocess method for every task where the words are broken to their root words hence requiring a smaller dictionary. ALthough this might seem counterintutive and breaking the meaning for humans, the word embeddings are very similar and sometimes same for variations to the stem/root word. NLTK comes with an inbuilt stemmer caller $PorterStemmer$ which does just the job we need to do"
   ]
  },
  {
   "cell_type": "code",
   "execution_count": 1,
   "metadata": {
    "ExecuteTime": {
     "end_time": "2019-06-21T11:49:03.287900Z",
     "start_time": "2019-06-21T11:48:58.798500Z"
    }
   },
   "outputs": [
    {
     "name": "stdout",
     "output_type": "stream",
     "text": [
      "['did', 'the', 'irrit', 'union', 'realli', 'nail', 'the', 'fall', '?', 'the', 'jitteri', 'somewher', 'drum', 'into', 'the', 'short', 'agent', '.']\n"
     ]
    }
   ],
   "source": [
    "import nltk\n",
    "ps = nltk.stem.PorterStemmer()\n",
    "TEXT = \"Did the irritating union really nail the fall? The jittery somewhere drums into the short agent.\"\n",
    "tokens = nltk.tokenize.word_tokenize(TEXT)\n",
    "STEMS = [ps.stem(w) for w in tokens]\n",
    "print(STEMS)"
   ]
  },
  {
   "cell_type": "markdown",
   "metadata": {},
   "source": [
    "# Tagging\n"
   ]
  },
  {
   "cell_type": "markdown",
   "metadata": {},
   "source": [
    "Tagging refers to mapping words to gramatical elements such as adjectives, nouns, verbs, pronouns, etc. The entire list can be found in the NLT Book [Here](http://www.nltk.org/book/)"
   ]
  },
  {
   "cell_type": "code",
   "execution_count": 2,
   "metadata": {
    "ExecuteTime": {
     "end_time": "2019-06-21T11:49:03.412735Z",
     "start_time": "2019-06-21T11:49:03.288865Z"
    },
    "scrolled": true
   },
   "outputs": [
    {
     "name": "stdout",
     "output_type": "stream",
     "text": [
      "[('Did', 'NNP'), ('the', 'DT'), ('irritating', 'NN'), ('union', 'NN'), ('really', 'RB'), ('nail', 'VBZ'), ('the', 'DT'), ('fall', 'NN'), ('?', '.'), ('The', 'DT'), ('jittery', 'NN'), ('somewhere', 'RB'), ('drums', 'VBZ'), ('into', 'IN'), ('the', 'DT'), ('short', 'JJ'), ('agent', 'NN'), ('.', '.')]\n"
     ]
    }
   ],
   "source": [
    "words = nltk.tokenize.word_tokenize(TEXT)\n",
    "tagged = nltk.pos_tag(words)\n",
    "print(tagged)"
   ]
  },
  {
   "cell_type": "markdown",
   "metadata": {},
   "source": [
    "# Lemmatizer\n",
    "Breaks down to root form but with the meaning retained in a better way. \n"
   ]
  },
  {
   "cell_type": "code",
   "execution_count": 3,
   "metadata": {
    "ExecuteTime": {
     "end_time": "2019-06-21T11:49:04.846887Z",
     "start_time": "2019-06-21T11:49:03.413708Z"
    }
   },
   "outputs": [
    {
     "name": "stdout",
     "output_type": "stream",
     "text": [
      "cat\n",
      "cactus\n",
      "goose\n",
      "rock\n",
      "python\n",
      "good\n",
      "best\n",
      "run\n",
      "run\n"
     ]
    }
   ],
   "source": [
    "from nltk.stem import WordNetLemmatizer\n",
    "lemmatizer = WordNetLemmatizer()\n",
    "print(lemmatizer.lemmatize(\"cats\"))\n",
    "print(lemmatizer.lemmatize(\"cacti\"))\n",
    "print(lemmatizer.lemmatize(\"geese\"))\n",
    "print(lemmatizer.lemmatize(\"rocks\"))\n",
    "print(lemmatizer.lemmatize(\"python\"))\n",
    "print(lemmatizer.lemmatize(\"better\", pos=\"a\"))\n",
    "print(lemmatizer.lemmatize(\"best\", pos=\"a\"))\n",
    "print(lemmatizer.lemmatize(\"run\"))\n",
    "print(lemmatizer.lemmatize(\"run\",'v'))"
   ]
  }
 ],
 "metadata": {
  "kernelspec": {
   "display_name": "Python 3",
   "language": "python",
   "name": "python3"
  },
  "language_info": {
   "codemirror_mode": {
    "name": "ipython",
    "version": 3
   },
   "file_extension": ".py",
   "mimetype": "text/x-python",
   "name": "python",
   "nbconvert_exporter": "python",
   "pygments_lexer": "ipython3",
   "version": "3.7.3"
  },
  "toc": {
   "base_numbering": 1,
   "nav_menu": {},
   "number_sections": true,
   "sideBar": true,
   "skip_h1_title": false,
   "title_cell": "Table of Contents",
   "title_sidebar": "Contents",
   "toc_cell": false,
   "toc_position": {},
   "toc_section_display": true,
   "toc_window_display": false
  },
  "varInspector": {
   "cols": {
    "lenName": 16,
    "lenType": 16,
    "lenVar": 40
   },
   "kernels_config": {
    "python": {
     "delete_cmd_postfix": "",
     "delete_cmd_prefix": "del ",
     "library": "var_list.py",
     "varRefreshCmd": "print(var_dic_list())"
    },
    "r": {
     "delete_cmd_postfix": ") ",
     "delete_cmd_prefix": "rm(",
     "library": "var_list.r",
     "varRefreshCmd": "cat(var_dic_list()) "
    }
   },
   "types_to_exclude": [
    "module",
    "function",
    "builtin_function_or_method",
    "instance",
    "_Feature"
   ],
   "window_display": false
  }
 },
 "nbformat": 4,
 "nbformat_minor": 2
}
